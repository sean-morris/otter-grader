{
 "cells": [
  {
   "cell_type": "raw",
   "metadata": {},
   "source": [
    "# ASSIGNMENT CONFIG\n",
    "requirements: requirements.txt\n",
    "template_pdf: true\n",
    "solutions_pdf: true\n",
    "generate:\n",
    "    seed: 42\n",
    "    show_stdout: true\n",
    "files:\n",
    "    - defaults.csv"
   ]
  },
  {
   "cell_type": "markdown",
   "metadata": {
    "tags": [
     "ignore"
    ]
   },
   "source": [
    "<table style=\"width: 100%;\">\n",
    "    <tr style=\"background-color: transparent;\"><td>\n",
    "        <img src=\"https://data-88e.github.io/assets/images/blue_text.png\" width=\"250px\" style=\"margin-left: 0;\" />\n",
    "    </td><td>\n",
    "        <p style=\"text-align: right; font-size: 10pt;\"><strong>Economic Models</strong>, Spring 2020<br>\n",
    "            Dr. Eric Van Dusen<br>\n",
    "            Notebook by Chris Pyles</p></td></tr>\n",
    "</table>"
   ]
  },
  {
   "cell_type": "markdown",
   "metadata": {},
   "source": [
    "# Project 3: Econometrics and Data Science"
   ]
  },
  {
   "cell_type": "markdown",
   "metadata": {
    "tags": [
     "ignore"
    ]
   },
   "source": [
    "This project focuses on the application of the data science techniques from lecture. You will practice single variable ordinary least squares regression in the Data 8 style, go through a guided introduction to multivariate OLS using the package `statsmodels`, and finally create your own multivariate OLS model.\n",
    "\n",
    "After this project, you should be able to\n",
    "\n",
    "1. Write and apply the necesssary functions to perform single variable OLS\n",
    "2. Use the `statsmodels` package to create multivariate OLS models\n",
    "3. Understand how to quantitatively evaluate models using the root-mean-squared error\n",
    "4. Look for and use relationships between variables to select features for regression"
   ]
  },
  {
   "cell_type": "code",
   "execution_count": 26,
   "metadata": {},
   "outputs": [],
   "source": [
    "import pandas as pd\n",
    "import matplotlib.pyplot as plt\n",
    "import numpy as np\n",
    "import statsmodels.api as sm\n",
    "import warnings\n",
    "\n",
    "from ipywidgets import interact, Dropdown, IntSlider\n",
    "\n",
    "warnings.simplefilter(action='ignore')\n",
    "%matplotlib inline\n",
    "plt.rcParams[\"figure.figsize\"] = [10,7]"
   ]
  },
  {
   "cell_type": "markdown",
   "metadata": {
    "tags": [
     "ignore"
    ]
   },
   "source": [
    "In this project, we will be working with data on credit card defaults and billing. The data covers April to September 2005, with one row for each cardholder. It has the following columns:\n",
    "\n",
    "| Column | Description |\n",
    "|-----|-----|\n",
    "| `credit` | Total amount of credit |\n",
    "| `sex` | Cardholder sex |\n",
    "| `education` | Cardholder education level |\n",
    "| `martial_status` | Cardholder marital status |\n",
    "| `age` | Cardholder age |\n",
    "| `bill_{month}05` | Bill amount for specific month |\n",
    "| `paid_{month}05` | Amount paid in specified month |\n",
    "| `default` | Whether the cardholder defaulted |\n",
    "\n",
    "In the cell below, we load the dataset."
   ]
  },
  {
   "cell_type": "code",
   "execution_count": 27,
   "metadata": {},
   "outputs": [
    {
     "data": {
      "text/html": [
       "<div>\n",
       "<style scoped>\n",
       "    .dataframe tbody tr th:only-of-type {\n",
       "        vertical-align: middle;\n",
       "    }\n",
       "\n",
       "    .dataframe tbody tr th {\n",
       "        vertical-align: top;\n",
       "    }\n",
       "\n",
       "    .dataframe thead th {\n",
       "        text-align: right;\n",
       "    }\n",
       "</style>\n",
       "<table border=\"1\" class=\"dataframe\">\n",
       "  <thead>\n",
       "    <tr style=\"text-align: right;\">\n",
       "      <th></th>\n",
       "      <th>credit</th>\n",
       "      <th>sex</th>\n",
       "      <th>education</th>\n",
       "      <th>marital_status</th>\n",
       "      <th>age</th>\n",
       "      <th>bill_sep05</th>\n",
       "      <th>bill_aug05</th>\n",
       "      <th>bill_jul05</th>\n",
       "      <th>bill_jun05</th>\n",
       "      <th>bill_may05</th>\n",
       "      <th>bill_apr05</th>\n",
       "      <th>paid_sep05</th>\n",
       "      <th>paid_aug05</th>\n",
       "      <th>paid_jul05</th>\n",
       "      <th>paid_jun05</th>\n",
       "      <th>paid_may05</th>\n",
       "      <th>paid_apr05</th>\n",
       "      <th>default</th>\n",
       "    </tr>\n",
       "  </thead>\n",
       "  <tbody>\n",
       "    <tr>\n",
       "      <th>0</th>\n",
       "      <td>20000</td>\n",
       "      <td>female</td>\n",
       "      <td>undergraduate</td>\n",
       "      <td>married</td>\n",
       "      <td>24</td>\n",
       "      <td>3913</td>\n",
       "      <td>3102</td>\n",
       "      <td>689</td>\n",
       "      <td>0</td>\n",
       "      <td>0</td>\n",
       "      <td>0</td>\n",
       "      <td>0</td>\n",
       "      <td>689</td>\n",
       "      <td>0</td>\n",
       "      <td>0</td>\n",
       "      <td>0</td>\n",
       "      <td>0</td>\n",
       "      <td>1</td>\n",
       "    </tr>\n",
       "    <tr>\n",
       "      <th>1</th>\n",
       "      <td>120000</td>\n",
       "      <td>female</td>\n",
       "      <td>undergraduate</td>\n",
       "      <td>single</td>\n",
       "      <td>26</td>\n",
       "      <td>2682</td>\n",
       "      <td>1725</td>\n",
       "      <td>2682</td>\n",
       "      <td>3272</td>\n",
       "      <td>3455</td>\n",
       "      <td>3261</td>\n",
       "      <td>0</td>\n",
       "      <td>1000</td>\n",
       "      <td>1000</td>\n",
       "      <td>1000</td>\n",
       "      <td>0</td>\n",
       "      <td>2000</td>\n",
       "      <td>1</td>\n",
       "    </tr>\n",
       "    <tr>\n",
       "      <th>2</th>\n",
       "      <td>90000</td>\n",
       "      <td>female</td>\n",
       "      <td>undergraduate</td>\n",
       "      <td>single</td>\n",
       "      <td>34</td>\n",
       "      <td>29239</td>\n",
       "      <td>14027</td>\n",
       "      <td>13559</td>\n",
       "      <td>14331</td>\n",
       "      <td>14948</td>\n",
       "      <td>15549</td>\n",
       "      <td>1518</td>\n",
       "      <td>1500</td>\n",
       "      <td>1000</td>\n",
       "      <td>1000</td>\n",
       "      <td>1000</td>\n",
       "      <td>5000</td>\n",
       "      <td>0</td>\n",
       "    </tr>\n",
       "    <tr>\n",
       "      <th>3</th>\n",
       "      <td>50000</td>\n",
       "      <td>female</td>\n",
       "      <td>undergraduate</td>\n",
       "      <td>married</td>\n",
       "      <td>37</td>\n",
       "      <td>46990</td>\n",
       "      <td>48233</td>\n",
       "      <td>49291</td>\n",
       "      <td>28314</td>\n",
       "      <td>28959</td>\n",
       "      <td>29547</td>\n",
       "      <td>2000</td>\n",
       "      <td>2019</td>\n",
       "      <td>1200</td>\n",
       "      <td>1100</td>\n",
       "      <td>1069</td>\n",
       "      <td>1000</td>\n",
       "      <td>0</td>\n",
       "    </tr>\n",
       "    <tr>\n",
       "      <th>4</th>\n",
       "      <td>50000</td>\n",
       "      <td>male</td>\n",
       "      <td>undergraduate</td>\n",
       "      <td>married</td>\n",
       "      <td>57</td>\n",
       "      <td>8617</td>\n",
       "      <td>5670</td>\n",
       "      <td>35835</td>\n",
       "      <td>20940</td>\n",
       "      <td>19146</td>\n",
       "      <td>19131</td>\n",
       "      <td>2000</td>\n",
       "      <td>36681</td>\n",
       "      <td>10000</td>\n",
       "      <td>9000</td>\n",
       "      <td>689</td>\n",
       "      <td>679</td>\n",
       "      <td>0</td>\n",
       "    </tr>\n",
       "    <tr>\n",
       "      <th>...</th>\n",
       "      <td>...</td>\n",
       "      <td>...</td>\n",
       "      <td>...</td>\n",
       "      <td>...</td>\n",
       "      <td>...</td>\n",
       "      <td>...</td>\n",
       "      <td>...</td>\n",
       "      <td>...</td>\n",
       "      <td>...</td>\n",
       "      <td>...</td>\n",
       "      <td>...</td>\n",
       "      <td>...</td>\n",
       "      <td>...</td>\n",
       "      <td>...</td>\n",
       "      <td>...</td>\n",
       "      <td>...</td>\n",
       "      <td>...</td>\n",
       "      <td>...</td>\n",
       "    </tr>\n",
       "    <tr>\n",
       "      <th>29995</th>\n",
       "      <td>220000</td>\n",
       "      <td>male</td>\n",
       "      <td>diploma</td>\n",
       "      <td>married</td>\n",
       "      <td>39</td>\n",
       "      <td>188948</td>\n",
       "      <td>192815</td>\n",
       "      <td>208365</td>\n",
       "      <td>88004</td>\n",
       "      <td>31237</td>\n",
       "      <td>15980</td>\n",
       "      <td>8500</td>\n",
       "      <td>20000</td>\n",
       "      <td>5003</td>\n",
       "      <td>3047</td>\n",
       "      <td>5000</td>\n",
       "      <td>1000</td>\n",
       "      <td>0</td>\n",
       "    </tr>\n",
       "    <tr>\n",
       "      <th>29996</th>\n",
       "      <td>150000</td>\n",
       "      <td>male</td>\n",
       "      <td>diploma</td>\n",
       "      <td>single</td>\n",
       "      <td>43</td>\n",
       "      <td>1683</td>\n",
       "      <td>1828</td>\n",
       "      <td>3502</td>\n",
       "      <td>8979</td>\n",
       "      <td>5190</td>\n",
       "      <td>0</td>\n",
       "      <td>1837</td>\n",
       "      <td>3526</td>\n",
       "      <td>8998</td>\n",
       "      <td>129</td>\n",
       "      <td>0</td>\n",
       "      <td>0</td>\n",
       "      <td>0</td>\n",
       "    </tr>\n",
       "    <tr>\n",
       "      <th>29997</th>\n",
       "      <td>30000</td>\n",
       "      <td>male</td>\n",
       "      <td>undergraduate</td>\n",
       "      <td>single</td>\n",
       "      <td>37</td>\n",
       "      <td>3565</td>\n",
       "      <td>3356</td>\n",
       "      <td>2758</td>\n",
       "      <td>20878</td>\n",
       "      <td>20582</td>\n",
       "      <td>19357</td>\n",
       "      <td>0</td>\n",
       "      <td>0</td>\n",
       "      <td>22000</td>\n",
       "      <td>4200</td>\n",
       "      <td>2000</td>\n",
       "      <td>3100</td>\n",
       "      <td>1</td>\n",
       "    </tr>\n",
       "    <tr>\n",
       "      <th>29998</th>\n",
       "      <td>80000</td>\n",
       "      <td>male</td>\n",
       "      <td>diploma</td>\n",
       "      <td>married</td>\n",
       "      <td>41</td>\n",
       "      <td>-1645</td>\n",
       "      <td>78379</td>\n",
       "      <td>76304</td>\n",
       "      <td>52774</td>\n",
       "      <td>11855</td>\n",
       "      <td>48944</td>\n",
       "      <td>85900</td>\n",
       "      <td>3409</td>\n",
       "      <td>1178</td>\n",
       "      <td>1926</td>\n",
       "      <td>52964</td>\n",
       "      <td>1804</td>\n",
       "      <td>1</td>\n",
       "    </tr>\n",
       "    <tr>\n",
       "      <th>29999</th>\n",
       "      <td>50000</td>\n",
       "      <td>male</td>\n",
       "      <td>undergraduate</td>\n",
       "      <td>married</td>\n",
       "      <td>46</td>\n",
       "      <td>47929</td>\n",
       "      <td>48905</td>\n",
       "      <td>49764</td>\n",
       "      <td>36535</td>\n",
       "      <td>32428</td>\n",
       "      <td>15313</td>\n",
       "      <td>2078</td>\n",
       "      <td>1800</td>\n",
       "      <td>1430</td>\n",
       "      <td>1000</td>\n",
       "      <td>1000</td>\n",
       "      <td>1000</td>\n",
       "      <td>1</td>\n",
       "    </tr>\n",
       "  </tbody>\n",
       "</table>\n",
       "<p>30000 rows × 18 columns</p>\n",
       "</div>"
      ],
      "text/plain": [
       "       credit     sex      education marital_status  age  bill_sep05  \\\n",
       "0       20000  female  undergraduate        married   24        3913   \n",
       "1      120000  female  undergraduate         single   26        2682   \n",
       "2       90000  female  undergraduate         single   34       29239   \n",
       "3       50000  female  undergraduate        married   37       46990   \n",
       "4       50000    male  undergraduate        married   57        8617   \n",
       "...       ...     ...            ...            ...  ...         ...   \n",
       "29995  220000    male        diploma        married   39      188948   \n",
       "29996  150000    male        diploma         single   43        1683   \n",
       "29997   30000    male  undergraduate         single   37        3565   \n",
       "29998   80000    male        diploma        married   41       -1645   \n",
       "29999   50000    male  undergraduate        married   46       47929   \n",
       "\n",
       "       bill_aug05  bill_jul05  bill_jun05  bill_may05  bill_apr05  paid_sep05  \\\n",
       "0            3102         689           0           0           0           0   \n",
       "1            1725        2682        3272        3455        3261           0   \n",
       "2           14027       13559       14331       14948       15549        1518   \n",
       "3           48233       49291       28314       28959       29547        2000   \n",
       "4            5670       35835       20940       19146       19131        2000   \n",
       "...           ...         ...         ...         ...         ...         ...   \n",
       "29995      192815      208365       88004       31237       15980        8500   \n",
       "29996        1828        3502        8979        5190           0        1837   \n",
       "29997        3356        2758       20878       20582       19357           0   \n",
       "29998       78379       76304       52774       11855       48944       85900   \n",
       "29999       48905       49764       36535       32428       15313        2078   \n",
       "\n",
       "       paid_aug05  paid_jul05  paid_jun05  paid_may05  paid_apr05  default  \n",
       "0             689           0           0           0           0        1  \n",
       "1            1000        1000        1000           0        2000        1  \n",
       "2            1500        1000        1000        1000        5000        0  \n",
       "3            2019        1200        1100        1069        1000        0  \n",
       "4           36681       10000        9000         689         679        0  \n",
       "...           ...         ...         ...         ...         ...      ...  \n",
       "29995       20000        5003        3047        5000        1000        0  \n",
       "29996        3526        8998         129           0           0        0  \n",
       "29997           0       22000        4200        2000        3100        1  \n",
       "29998        3409        1178        1926       52964        1804        1  \n",
       "29999        1800        1430        1000        1000        1000        1  \n",
       "\n",
       "[30000 rows x 18 columns]"
      ]
     },
     "execution_count": 27,
     "metadata": {},
     "output_type": "execute_result"
    }
   ],
   "source": [
    "defaults = pd.read_csv(\"defaults.csv\")\n",
    "defaults"
   ]
  },
  {
   "cell_type": "raw",
   "metadata": {},
   "source": [
    "# BEGIN QUESTION\n",
    "name: q0_1"
   ]
  },
  {
   "cell_type": "markdown",
   "metadata": {
    "tags": [
     "ignore"
    ]
   },
   "source": [
    "**Question 0.1:** Which of the columns in `defaults` would we need dummies for in order to use in an OLS model? Assign `q0_1` to an list of these column _labels_."
   ]
  },
  {
   "cell_type": "raw",
   "metadata": {},
   "source": [
    "# BEGIN SOLUTION"
   ]
  },
  {
   "cell_type": "code",
   "execution_count": 28,
   "metadata": {
    "tags": [
     "ignore"
    ]
   },
   "outputs": [
    {
     "data": {
      "text/plain": [
       "['sex', 'education', 'marital_status']"
      ]
     },
     "execution_count": 28,
     "metadata": {},
     "output_type": "execute_result"
    }
   ],
   "source": [
    "q0_1 = [\"sex\", \"education\", \"marital_status\"] # SOLUTION\n",
    "q0_1"
   ]
  },
  {
   "cell_type": "raw",
   "metadata": {},
   "source": [
    "# END SOLUTION"
   ]
  },
  {
   "cell_type": "raw",
   "metadata": {},
   "source": [
    "# BEGIN TESTS"
   ]
  },
  {
   "cell_type": "code",
   "execution_count": 29,
   "metadata": {},
   "outputs": [],
   "source": [
    "assert len(q0_1) in [3, 4]\n",
    "assert \"sex\" in q0_1\n",
    "assert \"education\" in q0_1\n",
    "assert \"marital_status\" in q0_1"
   ]
  },
  {
   "cell_type": "raw",
   "metadata": {},
   "source": [
    "# END TESTS"
   ]
  },
  {
   "cell_type": "raw",
   "metadata": {},
   "source": [
    "# END QUESTION"
   ]
  },
  {
   "cell_type": "markdown",
   "metadata": {
    "tags": [
     "ignore"
    ]
   },
   "source": [
    "In order to use the columns you chose, we will need to create dummies for them. In lecture, we showed a function (defined in the imports cell) that will get dummies for a variable for you."
   ]
  },
  {
   "cell_type": "raw",
   "metadata": {},
   "source": [
    "# BEGIN QUESTION\n",
    "name: q0_2"
   ]
  },
  {
   "cell_type": "markdown",
   "metadata": {},
   "source": [
    "**Question 0.2:** Use `pd.get_dummies` to get dummies for the variables you listed in `q0_1`."
   ]
  },
  {
   "cell_type": "raw",
   "metadata": {},
   "source": [
    "# BEGIN SOLUTION"
   ]
  },
  {
   "cell_type": "code",
   "execution_count": 30,
   "metadata": {},
   "outputs": [],
   "source": [
    "defaults = pd.get_dummies(defaults, columns=q0_1) # SOLUTION"
   ]
  },
  {
   "cell_type": "raw",
   "metadata": {},
   "source": [
    "# END SOLUTION"
   ]
  },
  {
   "cell_type": "raw",
   "metadata": {},
   "source": [
    "# BEGIN TESTS"
   ]
  },
  {
   "cell_type": "code",
   "execution_count": 31,
   "metadata": {},
   "outputs": [],
   "source": [
    "assert \"education\" not in defaults.columns\n",
    "assert \"marital_status\" not in defaults.columns\n",
    "assert \"sex_male\" in defaults.columns"
   ]
  },
  {
   "cell_type": "raw",
   "metadata": {},
   "source": [
    "# END TESTS"
   ]
  },
  {
   "cell_type": "raw",
   "metadata": {},
   "source": [
    "# END QUESTION"
   ]
  },
  {
   "cell_type": "markdown",
   "metadata": {
    "tags": [
     "ignore"
    ]
   },
   "source": [
    "## Part 1: Single Variable OLS\n",
    "\n",
    "We'll start by doing some single variable linear regression, ala Data 8. To begin, recall that we can model $y$ based on $x$ using the form\n",
    "\n",
    "$$\\Large\n",
    "\\hat{y} = \\hat{\\beta}_0 + \\hat{\\beta}_1 x\n",
    "$$\n",
    "\n",
    "We can define the **correlation coefficient** of two values to be the mean of the product of their values in standard units."
   ]
  },
  {
   "cell_type": "raw",
   "metadata": {},
   "source": [
    "# BEGIN QUESTION\n",
    "name: q1_1"
   ]
  },
  {
   "cell_type": "markdown",
   "metadata": {},
   "source": [
    "**Question 1.1:** Complete the `corr` function below to compute the correlation coefficient of two arrays `x` and `y` based on the formula\n",
    "\n",
    "$$\\Large\n",
    "r = \\text{mean} \\left ( x_\\text{SU} \\cdot y_\\text{SU} \\right )\n",
    "$$\n",
    "\n",
    "_Hint:_ You may find the `su` function, which converts an array to standard units, helpful."
   ]
  },
  {
   "cell_type": "raw",
   "metadata": {},
   "source": [
    "# BEGIN SOLUTION"
   ]
  },
  {
   "cell_type": "code",
   "execution_count": 34,
   "metadata": {},
   "outputs": [],
   "source": [
    "def su(arr):\n",
    "    \"\"\"Converts array arr to standard units\"\"\"\n",
    "    return (arr - np.mean(arr)) / np.std(arr)\n",
    "\n",
    "def corr(x, y):\n",
    "    \"\"\"Calculates the correlation coefficient of two arrays\"\"\"\n",
    "    return np.mean(su(x) * su(y)) # SOLUTION"
   ]
  },
  {
   "cell_type": "raw",
   "metadata": {},
   "source": [
    "# END SOLUTION"
   ]
  },
  {
   "cell_type": "raw",
   "metadata": {},
   "source": [
    "# BEGIN TESTS"
   ]
  },
  {
   "cell_type": "code",
   "execution_count": 70,
   "metadata": {},
   "outputs": [],
   "source": [
    "np.random.seed(1234)\n",
    "x2 = np.random.uniform(0, 10, 5)\n",
    "y2 = np.random.uniform(0, 10, 5)\n",
    "assert np.isclose(corr(x2, y2), 0.6410799722591175)"
   ]
  },
  {
   "cell_type": "code",
   "execution_count": 71,
   "metadata": {},
   "outputs": [],
   "source": [
    "\"\"\" # BEGIN TEST CONFIG\n",
    "points: 1\n",
    "hidden: true\n",
    "\"\"\" # END TEST CONFIG\n",
    "np.random.seed(2345)\n",
    "x2 = np.random.uniform(0, 10, 5)\n",
    "y2 = np.random.uniform(0, 10, 5)\n",
    "assert np.isclose(corr(x2, y2), -0.4008555019904271)"
   ]
  },
  {
   "cell_type": "raw",
   "metadata": {},
   "source": [
    "# END TESTS"
   ]
  },
  {
   "cell_type": "raw",
   "metadata": {},
   "source": [
    "# END QUESTION"
   ]
  },
  {
   "cell_type": "markdown",
   "metadata": {
    "tags": [
     "ignore"
    ]
   },
   "source": [
    "From this $r$ value that we have calculated above, we can compute the slope $\\beta_1$ and intercept $\\beta_0$ of the best-fit line using the formulas below.\n",
    "\n",
    "$$\\Large\n",
    "\\beta_1 = r \\frac{\\hat{\\sigma}_y}{\\hat{\\sigma}_x}\n",
    "\\qquad \\text{ and } \\qquad\n",
    "\\beta_0 = \\hat{\\mu}_y - \\beta_1 \\cdot \\hat{\\mu}_x\n",
    "$$"
   ]
  },
  {
   "cell_type": "raw",
   "metadata": {},
   "source": [
    "# BEGIN QUESTION\n",
    "name: q1_2"
   ]
  },
  {
   "cell_type": "markdown",
   "metadata": {},
   "source": [
    "**Question 1.2:** Using your `corr` function, fill in the `slope` and `intercept` functions below which compute the values of $\\beta_1$ and $\\beta_0$ for the line of best fit that predicts `y` based on `x`. Your function should use vectorized arithmetic (i.e. no `for` loops).\n",
    "\n",
    "_Hint:_ You may find your `slope` function useful in `intercept`."
   ]
  },
  {
   "cell_type": "raw",
   "metadata": {},
   "source": [
    "# BEGIN SOLUTION"
   ]
  },
  {
   "cell_type": "code",
   "execution_count": 115,
   "metadata": {},
   "outputs": [],
   "source": [
    "def slope(x, y):\n",
    "    \"\"\"Computes the slope of the best-fit line of y based on x\"\"\"\n",
    "    return np.std(y) * corr(x, y) / np.std(x) # SOLUTION\n",
    "\n",
    "def intercept(x, y):\n",
    "    \"\"\"Computes the intercept of the best-fit line of y based on x\"\"\"\n",
    "    return np.mean(y) - slope(x, y) * np.mean(x) # SOLUTION"
   ]
  },
  {
   "cell_type": "raw",
   "metadata": {},
   "source": [
    "# END SOLUTION"
   ]
  },
  {
   "cell_type": "raw",
   "metadata": {},
   "source": [
    "# BEGIN TESTS"
   ]
  },
  {
   "cell_type": "code",
   "execution_count": 116,
   "metadata": {},
   "outputs": [],
   "source": [
    "np.random.seed(1234)\n",
    "x2 = np.random.uniform(0, 10, 5)\n",
    "y2 = np.random.uniform(0, 10, 5)\n",
    "assert np.isclose(slope(x2, y2), 0.853965497371089)"
   ]
  },
  {
   "cell_type": "code",
   "execution_count": 117,
   "metadata": {},
   "outputs": [],
   "source": [
    "np.random.seed(1234)\n",
    "x2 = np.random.uniform(0, 10, 5)\n",
    "y2 = np.random.uniform(0, 10, 5)\n",
    "assert np.isclose(intercept(x2, y2), 1.5592892975597108)"
   ]
  },
  {
   "cell_type": "code",
   "execution_count": 118,
   "metadata": {},
   "outputs": [],
   "source": [
    "\"\"\" # BEGIN TEST CONFIG\n",
    "points: 0.5\n",
    "hidden: true\n",
    "\"\"\" # END TEST CONFIG\n",
    "np.random.seed(2345)\n",
    "x2 = np.random.uniform(0, 10, 5)\n",
    "y2 = np.random.uniform(0, 10, 5)\n",
    "assert np.isclose(slope(x2, y2), -0.5183482739336265)"
   ]
  },
  {
   "cell_type": "code",
   "execution_count": 119,
   "metadata": {
    "tags": []
   },
   "outputs": [],
   "source": [
    "\"\"\" # BEGIN TEST CONFIG\n",
    "points: 0.5\n",
    "hidden: true\n",
    "\"\"\" # END TEST CONFIG\n",
    "np.random.seed(2345)\n",
    "x2 = np.random.uniform(0, 10, 5)\n",
    "y2 = np.random.uniform(0, 10, 5)\n",
    "assert np.isclose(intercept(x2, y2), 7.777051922080558)"
   ]
  },
  {
   "cell_type": "raw",
   "metadata": {},
   "source": [
    "# END TESTS"
   ]
  },
  {
   "cell_type": "raw",
   "metadata": {},
   "source": [
    "# END QUESTION"
   ]
  },
  {
   "cell_type": "markdown",
   "metadata": {
    "tags": [
     "ignore"
    ]
   },
   "source": [
    "Now let's look at how we can predict the `bill_sep05` column based on some other column of our data. We'll start by looking at the `credit` as the explanatory variable. To use our functions above, we must extract the values of each column as arrays, which we define below as `x` and `y`. We then compute the fitted values `y_hat` using the slope-intercept formula and plot the results."
   ]
  },
  {
   "cell_type": "raw",
   "metadata": {},
   "source": [
    "# BEGIN QUESTION\n",
    "name: q1_3"
   ]
  },
  {
   "cell_type": "markdown",
   "metadata": {},
   "source": [
    "**Question 1.3:** Using the functions you defined in Question 1.2, regress `bill_sep05` on `credit`. Assign your predictions to `y_hat`."
   ]
  },
  {
   "cell_type": "raw",
   "metadata": {},
   "source": [
    "# BEGIN SOLUTION"
   ]
  },
  {
   "cell_type": "code",
   "execution_count": 189,
   "metadata": {
    "tags": [
     "ignore"
    ]
   },
   "outputs": [],
   "source": [
    "x = defaults[\"credit\"]\n",
    "y = defaults[\"bill_sep05\"]\n",
    "\n",
    "beta_1 = slope(x, y)           # SOLUTION\n",
    "beta_0 = intercept(x, y)       # SOLUTION\n",
    "y_hat = beta_1 * x + beta_0    # SOLUTION"
   ]
  },
  {
   "cell_type": "raw",
   "metadata": {},
   "source": [
    "# END SOLUTION"
   ]
  },
  {
   "cell_type": "raw",
   "metadata": {},
   "source": [
    "# BEGIN TESTS"
   ]
  },
  {
   "cell_type": "code",
   "execution_count": 121,
   "metadata": {},
   "outputs": [],
   "source": [
    "assert len(y_hat) == len(y)\n",
    "assert x.shape == (30000,)\n",
    "assert 0.1 <= beta_1 <= 0.2\n",
    "assert 23000 <= beta_0 <= 25000"
   ]
  },
  {
   "cell_type": "code",
   "execution_count": 122,
   "metadata": {},
   "outputs": [],
   "source": [
    "\"\"\" # BEGIN TEST CONFIG\n",
    "points: 1\n",
    "hidden: true\n",
    "\"\"\" # END TEST CONFIG\n",
    "assert np.isclose(beta_1, 0.16199038569776522)"
   ]
  },
  {
   "cell_type": "code",
   "execution_count": 123,
   "metadata": {},
   "outputs": [],
   "source": [
    "\"\"\" # BEGIN TEST CONFIG\n",
    "points: 1\n",
    "hidden: true\n",
    "\"\"\" # END TEST CONFIG\n",
    "assert np.isclose(beta_0, 24092.480872897704)"
   ]
  },
  {
   "cell_type": "code",
   "execution_count": 124,
   "metadata": {},
   "outputs": [],
   "source": [
    "\"\"\" # BEGIN TEST CONFIG\n",
    "points: 1\n",
    "hidden: true\n",
    "\"\"\" # END TEST CONFIG\n",
    "np.random.seed(1001)\n",
    "sub_y = np.random.choice(y_hat, 5)\n",
    "assert np.allclose(sub_y, [105087.67372178, 40291.51944267, 27332.28858685, 27332.28858685, 27332.28858685])"
   ]
  },
  {
   "cell_type": "raw",
   "metadata": {},
   "source": [
    "# END TESTS"
   ]
  },
  {
   "cell_type": "raw",
   "metadata": {},
   "source": [
    "# END QUESTION"
   ]
  },
  {
   "cell_type": "markdown",
   "metadata": {},
   "source": [
    "Now that we have some predictions, let's plot the original data and the regression line."
   ]
  },
  {
   "cell_type": "code",
   "execution_count": 125,
   "metadata": {},
   "outputs": [
    {
     "data": {
      "image/png": "[encoded data removed]",
      "text/plain": [
       "<Figure size 720x504 with 1 Axes>"
      ]
     },
     "metadata": {
      "needs_background": "light"
     },
     "output_type": "display_data"
    }
   ],
   "source": [
    "plt.scatter(x, y, color=\"tab:blue\", alpha=0.3)\n",
    "plt.plot(x, y_hat, color=\"tab:red\")\n",
    "plt.title(\"Predict September bill with credit\");"
   ]
  },
  {
   "cell_type": "raw",
   "metadata": {},
   "source": [
    "# BEGIN QUESTION\n",
    "name: q1_4\n",
    "manual: true"
   ]
  },
  {
   "cell_type": "markdown",
   "metadata": {},
   "source": [
    "**Question 1.4:** Does the line we found fit the data well? Explain."
   ]
  },
  {
   "cell_type": "raw",
   "metadata": {},
   "source": [
    "# BEGIN SOLUTION"
   ]
  },
  {
   "cell_type": "markdown",
   "metadata": {},
   "source": [
    "<div class=\"alert alert-danger\">\n",
    "\n",
    "<strong>SOLUTION:</strong> Nope\n",
    "    \n",
    "</div>"
   ]
  },
  {
   "cell_type": "raw",
   "metadata": {},
   "source": [
    "# END SOLUTION"
   ]
  },
  {
   "cell_type": "raw",
   "metadata": {},
   "source": [
    "# END QUESTION"
   ]
  },
  {
   "cell_type": "markdown",
   "metadata": {},
   "source": [
    "Let's estimate how confident we are in the significance of our $\\hat{\\beta}_1$ coefficient."
   ]
  },
  {
   "cell_type": "raw",
   "metadata": {},
   "source": [
    "# BEGIN QUESTION\n",
    "name: q1_5"
   ]
  },
  {
   "cell_type": "markdown",
   "metadata": {},
   "source": [
    "**Question 1.5:** Fill in the code below to bootstrap our $\\hat{\\beta}_1$ and find the 95% confidence interval. Store the lower and upper bounds as `ci95_lower` and `ci95_upper`, respectively. (The cell may take a couple minutes to run.)\n",
    "\n",
    "_Hint:_ Since we're only interested in $\\hat{\\beta}_1$, we don't need to find the intercept or fit our $x$ values."
   ]
  },
  {
   "cell_type": "raw",
   "metadata": {},
   "source": [
    "# BEGIN SOLUTION"
   ]
  },
  {
   "cell_type": "code",
   "execution_count": 126,
   "metadata": {
    "tags": []
   },
   "outputs": [
    {
     "name": "stdout",
     "output_type": "stream",
     "text": [
      "95% CI: (0.1442893482315043, 0.1863526283850078)\n"
     ]
    }
   ],
   "source": [
    "np.random.seed(42)                                           # SEED\n",
    "betas = []\n",
    "\n",
    "for i in np.arange(200):\n",
    "    sample = defaults.sample(5000)    # defaults is a huge table, so we'll only sample 5000 rows\n",
    "    sample_x = sample[\"credit\"]                              # SOLUTION\n",
    "    sample_y = sample[\"bill_sep05\"]                          # SOLUTION\n",
    "    betas.append(slope(sample_x, sample_y))                  # SOLUTION\n",
    "\n",
    "ci95_lower = np.percentile(betas, 2.5)                          # SOLUTION\n",
    "ci95_upper = np.percentile(betas, 97.5)                         # SOLUTION\n",
    "\n",
    "print(\"95% CI: ({}, {})\".format(ci95_lower, ci95_upper))"
   ]
  },
  {
   "cell_type": "raw",
   "metadata": {},
   "source": [
    "# END SOLUTION"
   ]
  },
  {
   "cell_type": "raw",
   "metadata": {},
   "source": [
    "# BEGIN TESTS"
   ]
  },
  {
   "cell_type": "code",
   "execution_count": 127,
   "metadata": {},
   "outputs": [],
   "source": [
    "assert 0.13 <= ci95_lower <= 0.17\n",
    "assert 0.16 <= ci95_upper <= 0.20"
   ]
  },
  {
   "cell_type": "code",
   "execution_count": 129,
   "metadata": {},
   "outputs": [],
   "source": [
    "\"\"\" # BEGIN TEST CONFIG\n",
    "points: 0.5\n",
    "hidden: true\n",
    "\"\"\" # END TEST CONFIG\n",
    "assert np.isclose(ci95_lower, 0.1442893482315043)"
   ]
  },
  {
   "cell_type": "code",
   "execution_count": 130,
   "metadata": {},
   "outputs": [],
   "source": [
    "\"\"\" # BEGIN TEST CONFIG\n",
    "points: 0.5\n",
    "hidden: true\n",
    "\"\"\" # END TEST CONFIG\n",
    "assert np.isclose(ci95_upper, 0.1863526283850078)"
   ]
  },
  {
   "cell_type": "raw",
   "metadata": {},
   "source": [
    "# END TESTS"
   ]
  },
  {
   "cell_type": "raw",
   "metadata": {},
   "source": [
    "# END QUESTION"
   ]
  },
  {
   "cell_type": "raw",
   "metadata": {},
   "source": [
    "# BEGIN QUESTION\n",
    "name: q1_6\n",
    "manual: true"
   ]
  },
  {
   "cell_type": "markdown",
   "metadata": {},
   "source": [
    "**Question 1.6:** Using your 95% confidence interval, is it likely that the credit has no effect on the September 2005 bill? Justify your answer."
   ]
  },
  {
   "cell_type": "raw",
   "metadata": {},
   "source": [
    "# BEGIN SOLUTION"
   ]
  },
  {
   "cell_type": "markdown",
   "metadata": {},
   "source": [
    "<div class=\"alert alert-danger\">\n",
    "\n",
    "<strong>SOLUTION:</strong> No, the CI does not contain 0.\n",
    "    \n",
    "</div>"
   ]
  },
  {
   "cell_type": "raw",
   "metadata": {},
   "source": [
    "# END SOLUTION"
   ]
  },
  {
   "cell_type": "raw",
   "metadata": {},
   "source": [
    "# END QUESTION"
   ]
  },
  {
   "cell_type": "markdown",
   "metadata": {
    "tags": [
     "ignore"
    ]
   },
   "source": [
    "Obviously, we can see that our best-fit line does not predict perfectly. There are plenty of points in the scatterplot that do not fall on the line. But how do we quantify the error of our model? There are many so-called *loss functions*, but in this notebook we will use the **root-mean-squared error**, which is defined as\n",
    "\n",
    "$$\\Large\n",
    "\\text{RMSE} = \\sqrt{ \\frac{1}{n} \\sum_{i=1}^n \\left ( y_i - \\hat{y}_i \\right ) ^2 }\n",
    "$$\n",
    "\n",
    "where $n$ is the number of observations. The effect of this is to take the mean of the distance of each value of $\\hat{y}$ from its corresponding value in $y$; squaring these values keeps them positive, and then we take the square root to correct the units of the error."
   ]
  },
  {
   "cell_type": "raw",
   "metadata": {},
   "source": [
    "# BEGIN QUESTION\n",
    "name: q1_7"
   ]
  },
  {
   "cell_type": "markdown",
   "metadata": {},
   "source": [
    "**Question 1.7:** Complete the function `rmse` below which computes the root-mean-squared error of the prediction `y_hat` on `y`. Again, no `for` loops."
   ]
  },
  {
   "cell_type": "raw",
   "metadata": {},
   "source": [
    "# BEGIN SOLUTION"
   ]
  },
  {
   "cell_type": "code",
   "execution_count": 131,
   "metadata": {},
   "outputs": [],
   "source": [
    "def rmse(y, y_hat):\n",
    "    \"\"\"Computes the RMSE of prediction y_hat based on y\"\"\"\n",
    "    return np.sqrt(np.mean((y - y_hat)**2)) # SOLUTION"
   ]
  },
  {
   "cell_type": "raw",
   "metadata": {},
   "source": [
    "# END SOLUTION"
   ]
  },
  {
   "cell_type": "raw",
   "metadata": {},
   "source": [
    "# BEGIN TESTS"
   ]
  },
  {
   "cell_type": "code",
   "execution_count": 132,
   "metadata": {},
   "outputs": [],
   "source": [
    "np.random.seed(1234)\n",
    "y2 = np.random.uniform(0, 10, 5)\n",
    "y_hat2 = np.random.uniform(0, 10, 5)\n",
    "assert np.isclose(rmse(y2, y_hat2), 2.440102731334708)"
   ]
  },
  {
   "cell_type": "code",
   "execution_count": 133,
   "metadata": {},
   "outputs": [],
   "source": [
    "\"\"\" # BEGIN TEST CONFIG\n",
    "points: 1\n",
    "hidden: true\n",
    "\"\"\" # END TEST CONFIG\n",
    "np.random.seed(2345)\n",
    "y2 = np.random.uniform(0, 10, 5)\n",
    "y_hat2 = np.random.uniform(0, 10, 5)\n",
    "assert np.isclose(rmse(y2, y_hat2), 4.034226624125118)"
   ]
  },
  {
   "cell_type": "raw",
   "metadata": {},
   "source": [
    "# END TESTS"
   ]
  },
  {
   "cell_type": "raw",
   "metadata": {},
   "source": [
    "# END QUESTION"
   ]
  },
  {
   "cell_type": "raw",
   "metadata": {},
   "source": [
    "# BEGIN QUESTION\n",
    "name: q1_8"
   ]
  },
  {
   "cell_type": "markdown",
   "metadata": {
    "tags": [
     "ignore"
    ]
   },
   "source": [
    "**Question 1.8:** Use your `rmse` function to compute the RMSE of our prediction `y_hat` based on `y` from above."
   ]
  },
  {
   "cell_type": "raw",
   "metadata": {},
   "source": [
    "# BEGIN SOLUTION"
   ]
  },
  {
   "cell_type": "code",
   "execution_count": 134,
   "metadata": {},
   "outputs": [
    {
     "data": {
      "text/plain": [
       "70571.40305975602"
      ]
     },
     "execution_count": 134,
     "metadata": {},
     "output_type": "execute_result"
    }
   ],
   "source": [
    "single_var_error = rmse(y, y_hat) # SOLUTION\n",
    "single_var_error"
   ]
  },
  {
   "cell_type": "raw",
   "metadata": {},
   "source": [
    "# END SOLUTION"
   ]
  },
  {
   "cell_type": "raw",
   "metadata": {},
   "source": [
    "# BEGIN TESTS"
   ]
  },
  {
   "cell_type": "code",
   "execution_count": 135,
   "metadata": {},
   "outputs": [],
   "source": [
    "assert 70000 <= single_var_error <= 80000"
   ]
  },
  {
   "cell_type": "code",
   "execution_count": 136,
   "metadata": {},
   "outputs": [],
   "source": [
    "\"\"\" # BEGIN TEST CONFIG\n",
    "points: 1\n",
    "hidden: true\n",
    "\"\"\" # END TEST CONFIG\n",
    "assert np.isclose(single_var_error, 70571.40305975602)"
   ]
  },
  {
   "cell_type": "raw",
   "metadata": {},
   "source": [
    "# END TESTS"
   ]
  },
  {
   "cell_type": "raw",
   "metadata": {},
   "source": [
    "# END QUESTION"
   ]
  },
  {
   "cell_type": "markdown",
   "metadata": {
    "tags": [
     "ignore"
    ]
   },
   "source": [
    "Now that we know how to predict based on and quantify the error of a model, let's write a function that will encapsulate this pipeline for us."
   ]
  },
  {
   "cell_type": "raw",
   "metadata": {},
   "source": [
    "# BEGIN QUESTION\n",
    "name: q1_9\n",
    "manual: true"
   ]
  },
  {
   "cell_type": "markdown",
   "metadata": {},
   "source": [
    "**Question 1.9:** Fill in the function `pred_and_plot` below which models `bill_sep05` based on a column `col`, plots the scatterplot and line of best fit, and computes the RMSE of the model. Then choose a column you think might be related to `bill_sep05` and use your `pred_and_plot` function to determine its prediction RMSE and plot the regression line.\n",
    "\n",
    "_Hint:_ Your code from Question 1.3 may be helpful here..."
   ]
  },
  {
   "cell_type": "raw",
   "metadata": {},
   "source": [
    "# BEGIN SOLUTION"
   ]
  },
  {
   "cell_type": "code",
   "execution_count": 138,
   "metadata": {
    "tags": [
     "include"
    ]
   },
   "outputs": [
    {
     "name": "stdout",
     "output_type": "stream",
     "text": [
      "RMSE: 72440.79127\n"
     ]
    },
    {
     "data": {
      "image/png": "[encoded data removed]",
      "text/plain": [
       "<Figure size 720x504 with 1 Axes>"
      ]
     },
     "metadata": {
      "needs_background": "light"
     },
     "output_type": "display_data"
    }
   ],
   "source": [
    "def pred_and_plot(col):\n",
    "    \"\"\"Performs single variable OLS to predict bill_sep05 based on col\"\"\"\n",
    "    x = defaults[col]                  # SOLUTION\n",
    "    y = defaults[\"bill_sep05\"]         # SOLUTION\n",
    "\n",
    "    beta_1 = slope(x, y)               # SOLUTION\n",
    "    beta_0 = intercept(x, y)           # SOLUTION\n",
    "\n",
    "    y_hat = beta_1 * x + beta_0        # SOLUTION\n",
    "    \n",
    "    model_rmse = rmse(y, y_hat)        # SOLUTION\n",
    "    \n",
    "    \n",
    "    ### DO NOT EDIT THE REST OF THIS FUNCTION ###\n",
    "    print(\"RMSE: {:.5f}\".format(rmse(y, y_hat)))\n",
    "\n",
    "    plt.scatter(x, y, color=\"tab:blue\", alpha=0.3)\n",
    "    plt.plot(x, y_hat, color=\"tab:red\")\n",
    "    plt.title(\"Predict September bill with {}\".format(col))\n",
    "\n",
    "\"\"\" # BEGIN PROMPT\n",
    "### Provide your column name below ###\n",
    "pred_and_plot(...)\n",
    "\"\"\" # END PROMPT\n",
    "pred_and_plot(\"paid_apr05\")  # SOLUTION NO PROMPT)"
   ]
  },
  {
   "cell_type": "raw",
   "metadata": {},
   "source": [
    "# END SOLUTION"
   ]
  },
  {
   "cell_type": "raw",
   "metadata": {},
   "source": [
    "# END QUESTION"
   ]
  },
  {
   "cell_type": "markdown",
   "metadata": {
    "tags": [
     "ignore"
    ]
   },
   "source": [
    "In looking through different features, you should have noticed that most of them don't follow a linear relationship very well. In practice, you often need _multiple_ features (explanatory variables) to predict an outcome variable, and it is for this reason that we often use **multiple linear regression** to predict variables."
   ]
  },
  {
   "cell_type": "markdown",
   "metadata": {},
   "source": [
    "Finally, before moving on to the multivariable case, let's think about using whether or not an individual defaults as a predictor of their September 2005 bill."
   ]
  },
  {
   "cell_type": "raw",
   "metadata": {},
   "source": [
    "# BEGIN QUESTION\n",
    "name: q1_10"
   ]
  },
  {
   "cell_type": "markdown",
   "metadata": {},
   "source": [
    "**Question 1.10:** Assign `default_beta_1` and `default_beta_0` to the slope and intercept of your regression of `bill_sep05` on the `default` column of the table `defaults`.\n",
    "\n",
    "_Hint:_ Our outcome variable hasn't changed, so we can reuse the array `y` defined earlier."
   ]
  },
  {
   "cell_type": "raw",
   "metadata": {},
   "source": [
    "# BEGIN SOLUTION"
   ]
  },
  {
   "cell_type": "code",
   "execution_count": 140,
   "metadata": {},
   "outputs": [
    {
     "name": "stdout",
     "output_type": "stream",
     "text": [
      "y_hat = -3485.0649761630766 * x + 51994.22727272727\n"
     ]
    }
   ],
   "source": [
    "default_x = defaults[\"default\"]               # SOLUTION\n",
    "\n",
    "default_beta_1 = slope(default_x, y)          # SOLUTION\n",
    "default_beta_0 = intercept(default_x, y)      # SOLUTION\n",
    "\n",
    "print(\"y_hat = {} * x + {}\".format(default_beta_1, default_beta_0))"
   ]
  },
  {
   "cell_type": "raw",
   "metadata": {},
   "source": [
    "# END SOLUTION"
   ]
  },
  {
   "cell_type": "raw",
   "metadata": {},
   "source": [
    "# BEGIN TESTS"
   ]
  },
  {
   "cell_type": "code",
   "execution_count": 141,
   "metadata": {},
   "outputs": [],
   "source": [
    "assert -4000 <= default_beta_1 <= -3000"
   ]
  },
  {
   "cell_type": "code",
   "execution_count": 142,
   "metadata": {},
   "outputs": [],
   "source": [
    "assert 51000 <= default_beta_0 <= 52000"
   ]
  },
  {
   "cell_type": "code",
   "execution_count": 145,
   "metadata": {},
   "outputs": [],
   "source": [
    "\"\"\" # BEGIN TEST CONFIG\n",
    "points: 1\n",
    "hidden: true\n",
    "\"\"\" # END TEST CONFIG\n",
    "assert np.isclose(default_beta_1, -3485.0649761630766)"
   ]
  },
  {
   "cell_type": "code",
   "execution_count": 146,
   "metadata": {},
   "outputs": [],
   "source": [
    "\"\"\" # BEGIN TEST CONFIG\n",
    "points: 1\n",
    "hidden: true\n",
    "\"\"\" # END TEST CONFIG\n",
    "assert np.isclose(default_beta_0, 51994.22727272727)"
   ]
  },
  {
   "cell_type": "raw",
   "metadata": {},
   "source": [
    "# END TESTS"
   ]
  },
  {
   "cell_type": "raw",
   "metadata": {},
   "source": [
    "# END QUESTION"
   ]
  },
  {
   "cell_type": "raw",
   "metadata": {},
   "source": [
    "# BEGIN QUESTION\n",
    "name: q1_11\n",
    "manual: true"
   ]
  },
  {
   "cell_type": "markdown",
   "metadata": {},
   "source": [
    "**Question 1.11:** Interpret the value of `default_beta_1`. Basically, what do we expected to happen when `default` changes from 0 to 1? Explain."
   ]
  },
  {
   "cell_type": "raw",
   "metadata": {},
   "source": [
    "# BEGIN SOLUTION"
   ]
  },
  {
   "cell_type": "markdown",
   "metadata": {},
   "source": [
    "<div class=\"alert alert-danger\">\n",
    "\n",
    "<strong>SOLUTION:</strong> We expect the bill to go down by approx \\\\$3,485.\n",
    "    \n",
    "</div>"
   ]
  },
  {
   "cell_type": "raw",
   "metadata": {},
   "source": [
    "# END SOLUTION"
   ]
  },
  {
   "cell_type": "raw",
   "metadata": {},
   "source": [
    "# END QUESTION"
   ]
  },
  {
   "cell_type": "markdown",
   "metadata": {
    "tags": [
     "ignore"
    ]
   },
   "source": [
    "## Part 2: Guided Multivariable OLS"
   ]
  },
  {
   "cell_type": "markdown",
   "metadata": {
    "tags": [
     "ignore"
    ]
   },
   "source": [
    "When we predict a variable $y$ based on some set of $p$ explanatory variables $x$, we create a model of the world with set of weights $\\left \\{ \\beta_i \\right \\}$ such that we have\n",
    "\n",
    "$$\\Large\n",
    "y = \\beta_0 + \\beta_1 x_1 + \\beta_2 x_2 + \\cdots + \\beta_p x_p + \\varepsilon\n",
    "$$\n",
    "\n",
    "Because of the error term $\\varepsilon$, we will instead create predictions $\\hat{y}$, such that \n",
    "\n",
    "$$\\Large\n",
    "\\hat{y} = \\hat{\\beta}_0 + \\hat{\\beta}_1 x_1 + \\hat{\\beta}_2 x_2 + \\cdots + \\hat{\\beta}_p x_p\n",
    "$$\n",
    "\n",
    "Let's model the September bill based on the other bills in the data set (April to August). Recall from lecture that we can model an outcome variable `Y` based on columns from our data `defaults` by extracting the values of the table into an array. In the cell below, we create the arrays `X` and `Y`."
   ]
  },
  {
   "cell_type": "code",
   "execution_count": 151,
   "metadata": {},
   "outputs": [],
   "source": [
    "X = defaults[[\"bill_aug05\", \"bill_jul05\", \"bill_jun05\", \"bill_may05\", \"bill_apr05\"]]\n",
    "Y = defaults[\"bill_sep05\"]"
   ]
  },
  {
   "cell_type": "markdown",
   "metadata": {
    "tags": [
     "ignore"
    ]
   },
   "source": [
    "Recall that we can fit a multivariate OLS model using `statsmodels` by calling the function `sm.OLS` on the outcome and explanatory variables. In the cell below, we create a model based on _all_ the columns in the table (except, of course, the outcome variable)."
   ]
  },
  {
   "cell_type": "code",
   "execution_count": 152,
   "metadata": {},
   "outputs": [
    {
     "data": {
      "text/html": [
       "<table class=\"simpletable\">\n",
       "<caption>OLS Regression Results</caption>\n",
       "<tr>\n",
       "  <th>Dep. Variable:</th>       <td>bill_sep05</td>    <th>  R-squared:         </th>  <td>   0.906</td>  \n",
       "</tr>\n",
       "<tr>\n",
       "  <th>Model:</th>                   <td>OLS</td>       <th>  Adj. R-squared:    </th>  <td>   0.906</td>  \n",
       "</tr>\n",
       "<tr>\n",
       "  <th>Method:</th>             <td>Least Squares</td>  <th>  F-statistic:       </th>  <td>5.790e+04</td> \n",
       "</tr>\n",
       "<tr>\n",
       "  <th>Date:</th>             <td>Fri, 27 Aug 2021</td> <th>  Prob (F-statistic):</th>   <td>  0.00</td>   \n",
       "</tr>\n",
       "<tr>\n",
       "  <th>Time:</th>                 <td>14:05:24</td>     <th>  Log-Likelihood:    </th> <td>-3.4329e+05</td>\n",
       "</tr>\n",
       "<tr>\n",
       "  <th>No. Observations:</th>      <td> 30000</td>      <th>  AIC:               </th>  <td>6.866e+05</td> \n",
       "</tr>\n",
       "<tr>\n",
       "  <th>Df Residuals:</th>          <td> 29994</td>      <th>  BIC:               </th>  <td>6.866e+05</td> \n",
       "</tr>\n",
       "<tr>\n",
       "  <th>Df Model:</th>              <td>     5</td>      <th>                     </th>      <td> </td>     \n",
       "</tr>\n",
       "<tr>\n",
       "  <th>Covariance Type:</th>      <td>nonrobust</td>    <th>                     </th>      <td> </td>     \n",
       "</tr>\n",
       "</table>\n",
       "<table class=\"simpletable\">\n",
       "<tr>\n",
       "       <td></td>         <th>coef</th>     <th>std err</th>      <th>t</th>      <th>P>|t|</th>  <th>[0.025</th>    <th>0.975]</th>  \n",
       "</tr>\n",
       "<tr>\n",
       "  <th>const</th>      <td> 2520.1986</td> <td>  159.563</td> <td>   15.794</td> <td> 0.000</td> <td> 2207.448</td> <td> 2832.949</td>\n",
       "</tr>\n",
       "<tr>\n",
       "  <th>bill_aug05</th> <td>    0.9110</td> <td>    0.005</td> <td>  178.710</td> <td> 0.000</td> <td>    0.901</td> <td>    0.921</td>\n",
       "</tr>\n",
       "<tr>\n",
       "  <th>bill_jul05</th> <td>    0.0418</td> <td>    0.006</td> <td>    6.800</td> <td> 0.000</td> <td>    0.030</td> <td>    0.054</td>\n",
       "</tr>\n",
       "<tr>\n",
       "  <th>bill_jun05</th> <td>    0.0227</td> <td>    0.007</td> <td>    3.082</td> <td> 0.002</td> <td>    0.008</td> <td>    0.037</td>\n",
       "</tr>\n",
       "<tr>\n",
       "  <th>bill_may05</th> <td>    0.0155</td> <td>    0.008</td> <td>    1.827</td> <td> 0.068</td> <td>   -0.001</td> <td>    0.032</td>\n",
       "</tr>\n",
       "<tr>\n",
       "  <th>bill_apr05</th> <td>    0.0083</td> <td>    0.007</td> <td>    1.224</td> <td> 0.221</td> <td>   -0.005</td> <td>    0.022</td>\n",
       "</tr>\n",
       "</table>\n",
       "<table class=\"simpletable\">\n",
       "<tr>\n",
       "  <th>Omnibus:</th>       <td>23326.809</td> <th>  Durbin-Watson:     </th>  <td>   1.993</td>  \n",
       "</tr>\n",
       "<tr>\n",
       "  <th>Prob(Omnibus):</th>  <td> 0.000</td>   <th>  Jarque-Bera (JB):  </th> <td>8416608.027</td>\n",
       "</tr>\n",
       "<tr>\n",
       "  <th>Skew:</th>           <td> 2.683</td>   <th>  Prob(JB):          </th>  <td>    0.00</td>  \n",
       "</tr>\n",
       "<tr>\n",
       "  <th>Kurtosis:</th>       <td>84.881</td>   <th>  Cond. No.          </th>  <td>2.09e+05</td>  \n",
       "</tr>\n",
       "</table><br/><br/>Notes:<br/>[1] Standard Errors assume that the covariance matrix of the errors is correctly specified.<br/>[2] The condition number is large, 2.09e+05. This might indicate that there are<br/>strong multicollinearity or other numerical problems."
      ],
      "text/plain": [
       "<class 'statsmodels.iolib.summary.Summary'>\n",
       "\"\"\"\n",
       "                            OLS Regression Results                            \n",
       "==============================================================================\n",
       "Dep. Variable:             bill_sep05   R-squared:                       0.906\n",
       "Model:                            OLS   Adj. R-squared:                  0.906\n",
       "Method:                 Least Squares   F-statistic:                 5.790e+04\n",
       "Date:                Fri, 27 Aug 2021   Prob (F-statistic):               0.00\n",
       "Time:                        14:05:24   Log-Likelihood:            -3.4329e+05\n",
       "No. Observations:               30000   AIC:                         6.866e+05\n",
       "Df Residuals:                   29994   BIC:                         6.866e+05\n",
       "Df Model:                           5                                         \n",
       "Covariance Type:            nonrobust                                         \n",
       "==============================================================================\n",
       "                 coef    std err          t      P>|t|      [0.025      0.975]\n",
       "------------------------------------------------------------------------------\n",
       "const       2520.1986    159.563     15.794      0.000    2207.448    2832.949\n",
       "bill_aug05     0.9110      0.005    178.710      0.000       0.901       0.921\n",
       "bill_jul05     0.0418      0.006      6.800      0.000       0.030       0.054\n",
       "bill_jun05     0.0227      0.007      3.082      0.002       0.008       0.037\n",
       "bill_may05     0.0155      0.008      1.827      0.068      -0.001       0.032\n",
       "bill_apr05     0.0083      0.007      1.224      0.221      -0.005       0.022\n",
       "==============================================================================\n",
       "Omnibus:                    23326.809   Durbin-Watson:                   1.993\n",
       "Prob(Omnibus):                  0.000   Jarque-Bera (JB):          8416608.027\n",
       "Skew:                           2.683   Prob(JB):                         0.00\n",
       "Kurtosis:                      84.881   Cond. No.                     2.09e+05\n",
       "==============================================================================\n",
       "\n",
       "Notes:\n",
       "[1] Standard Errors assume that the covariance matrix of the errors is correctly specified.\n",
       "[2] The condition number is large, 2.09e+05. This might indicate that there are\n",
       "strong multicollinearity or other numerical problems.\n",
       "\"\"\""
      ]
     },
     "execution_count": 152,
     "metadata": {},
     "output_type": "execute_result"
    }
   ],
   "source": [
    "# create an OLS object with the data\n",
    "model = sm.OLS(Y, sm.add_constant(X))\n",
    "result = model.fit()\n",
    "result.summary()"
   ]
  },
  {
   "cell_type": "raw",
   "metadata": {},
   "source": [
    "# BEGIN QUESTION\n",
    "name: q2_1"
   ]
  },
  {
   "cell_type": "markdown",
   "metadata": {
    "tags": [
     "ignore"
    ]
   },
   "source": [
    "**Question 2.1:** What is the standard error of the coefficient of `bill_jun05`?\n",
    "\n",
    "<ol style=\"list-style-type: lower-alpha;\">\n",
    "    <li>0.005</li>\n",
    "    <li>0.010</li>\n",
    "    <li>0.039</li>\n",
    "    <li>0.007</li>\n",
    "</ol>\n",
    "\n",
    "Assign your answer to `q2_1` below."
   ]
  },
  {
   "cell_type": "raw",
   "metadata": {},
   "source": [
    "# BEGIN SOLUTION"
   ]
  },
  {
   "cell_type": "code",
   "execution_count": 154,
   "metadata": {},
   "outputs": [],
   "source": [
    "q2_1 = \"d\" # SOLUTION"
   ]
  },
  {
   "cell_type": "raw",
   "metadata": {},
   "source": [
    "# END SOLUTION"
   ]
  },
  {
   "cell_type": "raw",
   "metadata": {},
   "source": [
    "# BEGIN TESTS"
   ]
  },
  {
   "cell_type": "code",
   "execution_count": 155,
   "metadata": {},
   "outputs": [
    {
     "data": {
      "text/plain": [
       "True"
      ]
     },
     "execution_count": 155,
     "metadata": {},
     "output_type": "execute_result"
    }
   ],
   "source": [
    "q2_1 in [\"a\", \"b\", \"c\", \"d\"]"
   ]
  },
  {
   "cell_type": "code",
   "execution_count": 156,
   "metadata": {},
   "outputs": [
    {
     "data": {
      "text/plain": [
       "True"
      ]
     },
     "execution_count": 156,
     "metadata": {},
     "output_type": "execute_result"
    }
   ],
   "source": [
    "\"\"\" # BEGIN TEST CONFIG\n",
    "points: 1\n",
    "hidden: true\n",
    "\"\"\" # END TEST CONFIG\n",
    "q2_1 == \"d\""
   ]
  },
  {
   "cell_type": "raw",
   "metadata": {},
   "source": [
    "# END TESTS"
   ]
  },
  {
   "cell_type": "raw",
   "metadata": {},
   "source": [
    "# END QUESTION"
   ]
  },
  {
   "cell_type": "raw",
   "metadata": {},
   "source": [
    "# BEGIN QUESTION\n",
    "name: q2_2\n",
    "manual: true"
   ]
  },
  {
   "cell_type": "markdown",
   "metadata": {},
   "source": [
    "**Question 2.2:** Which bills are likely good predictors of `bill_sep05`? Justify your response."
   ]
  },
  {
   "cell_type": "raw",
   "metadata": {},
   "source": [
    "# BEGIN SOLUTION"
   ]
  },
  {
   "cell_type": "markdown",
   "metadata": {},
   "source": [
    "<div class=\"alert alert-danger\">\n",
    "\n",
    "<strong>SOLUTION:</strong> August, July, and June. These have CIs that don't contain 0, and their $t$ statistics are high.\n",
    "    \n",
    "</div>"
   ]
  },
  {
   "cell_type": "raw",
   "metadata": {},
   "source": [
    "# END SOLUTION"
   ]
  },
  {
   "cell_type": "raw",
   "metadata": {},
   "source": [
    "# END QUESTION"
   ]
  },
  {
   "cell_type": "markdown",
   "metadata": {
    "tags": [
     "ignore"
    ]
   },
   "source": [
    "Now let's look and see what values our model predicts for our outcome variable. Recall that we can extract the fitted values from the result using `result.fittedvalues`. "
   ]
  },
  {
   "cell_type": "raw",
   "metadata": {},
   "source": [
    "# BEGIN QUESTION\n",
    "name: q2_3"
   ]
  },
  {
   "cell_type": "markdown",
   "metadata": {},
   "source": [
    "**Question 2.3:** Assign `Y_hat` to the fitted values of `result`. Then assign `multi_rmse` to the RMSE of this prediction based on `Y`."
   ]
  },
  {
   "cell_type": "raw",
   "metadata": {},
   "source": [
    "# BEGIN SOLUTION"
   ]
  },
  {
   "cell_type": "code",
   "execution_count": 159,
   "metadata": {},
   "outputs": [
    {
     "data": {
      "text/plain": [
       "22561.189743524323"
      ]
     },
     "execution_count": 159,
     "metadata": {},
     "output_type": "execute_result"
    }
   ],
   "source": [
    "Y_hat = result.fittedvalues    # SOLUTION\n",
    "\n",
    "multi_rmse = rmse(Y, Y_hat)    # SOLUTION\n",
    "multi_rmse"
   ]
  },
  {
   "cell_type": "raw",
   "metadata": {},
   "source": [
    "# END SOLUTION"
   ]
  },
  {
   "cell_type": "raw",
   "metadata": {},
   "source": [
    "# BEGIN TESTS"
   ]
  },
  {
   "cell_type": "code",
   "execution_count": 160,
   "metadata": {},
   "outputs": [],
   "source": [
    "assert len(Y_hat) == defaults.shape[0]\n",
    "assert 22000 <= multi_rmse <= 23000"
   ]
  },
  {
   "cell_type": "code",
   "execution_count": 164,
   "metadata": {},
   "outputs": [],
   "source": [
    "\"\"\" # BEGIN TEST CONFIG\n",
    "points: 1\n",
    "hidden: true\n",
    "\"\"\" # END TEST CONFIG\n",
    "np.random.seed(1234)\n",
    "expected = np.array([131575.00462172,  26777.22647566,   2573.18036936,   2824.68190761, 50299.39627643])\n",
    "actual = np.random.choice(Y_hat, 5)\n",
    "assert np.allclose(expected, actual)"
   ]
  },
  {
   "cell_type": "code",
   "execution_count": 163,
   "metadata": {},
   "outputs": [],
   "source": [
    "\"\"\" # BEGIN TEST CONFIG\n",
    "points: 1\n",
    "hidden: true\n",
    "\"\"\" # END TEST CONFIG\n",
    "assert np.isclose(multi_rmse, 22561.189743524323)"
   ]
  },
  {
   "cell_type": "raw",
   "metadata": {},
   "source": [
    "# END TESTS"
   ]
  },
  {
   "cell_type": "raw",
   "metadata": {},
   "source": [
    "# END QUESTION"
   ]
  },
  {
   "cell_type": "markdown",
   "metadata": {
    "tags": [
     "ignore"
    ]
   },
   "source": [
    "We see from this RMSE that the prediction is (much) better than the single variable case, but it's still not too good. Let's try and select better features to see if we can lower our RMSE."
   ]
  },
  {
   "cell_type": "raw",
   "metadata": {},
   "source": [
    "# BEGIN QUESTION\n",
    "name: q2_4"
   ]
  },
  {
   "cell_type": "markdown",
   "metadata": {},
   "source": [
    "**Question 2.4:** Add one more column label to the array `new_features` below. Then fill in the code below to create a new OLS model based on the columns in `new_features`, storing the fitted values in `new_Y_hat`. **Don't forget to apply `sm.add_constant` to `new_X` in your `sm.OLS` call!**\n",
    "\n",
    "_Hint:_ Our outcome variable `Y` hasn't changed, so we can reuse the same array as earlier."
   ]
  },
  {
   "cell_type": "raw",
   "metadata": {},
   "source": [
    "# BEGIN SOLUTION"
   ]
  },
  {
   "cell_type": "code",
   "execution_count": 184,
   "metadata": {},
   "outputs": [
    {
     "data": {
      "text/plain": [
       "0          4942.605951\n",
       "1          4127.406662\n",
       "2         16292.071043\n",
       "3         50186.861932\n",
       "4          9611.132360\n",
       "             ...      \n",
       "29995    194797.021035\n",
       "29996      5294.781788\n",
       "29997      8087.869013\n",
       "29998     80329.136951\n",
       "29999     51526.084098\n",
       "Length: 30000, dtype: float64"
      ]
     },
     "execution_count": 184,
     "metadata": {},
     "output_type": "execute_result"
    }
   ],
   "source": [
    "# BEGIN SOLUTION NO PROMPT\n",
    "new_features = [\"bill_aug05\", \"bill_jul05\", \"paid_aug05\", \"paid_jul05\", \"sex_male\", \"paid_apr05\"]\n",
    "# END SOLUTION\n",
    "\"\"\" # BEGIN PROMPT\n",
    "new_features = [\"bill_aug05\", \"bill_jul05\", \"paid_aug05\", \"paid_jul05\", \"sex_male\", ...]\n",
    "\"\"\" # END PROMPT\n",
    "\n",
    "new_X = defaults[new_features].astype(float)     # SOLUTION\n",
    "\n",
    "new_model = sm.OLS(Y, sm.add_constant(new_X))    # SOLUTION\n",
    "new_result = new_model.fit()                     # SOLUTION\n",
    "new_Y_hat = new_result.fittedvalues              # SOLUTION\n",
    "new_Y_hat"
   ]
  },
  {
   "cell_type": "raw",
   "metadata": {},
   "source": [
    "# END SOLUTION"
   ]
  },
  {
   "cell_type": "raw",
   "metadata": {},
   "source": [
    "# BEGIN TESTS"
   ]
  },
  {
   "cell_type": "code",
   "execution_count": 185,
   "metadata": {},
   "outputs": [],
   "source": [
    "assert len(new_features) == 6\n",
    "assert new_X.shape[1] == 6\n",
    "assert len(new_Y_hat) == defaults.shape[0]"
   ]
  },
  {
   "cell_type": "raw",
   "metadata": {},
   "source": [
    "# END TESTS"
   ]
  },
  {
   "cell_type": "raw",
   "metadata": {},
   "source": [
    "# END QUESTION"
   ]
  },
  {
   "cell_type": "markdown",
   "metadata": {
    "tags": [
     "ignore"
    ]
   },
   "source": [
    "Now that we have some predictions, let's look at the accuracy of our model."
   ]
  },
  {
   "cell_type": "raw",
   "metadata": {},
   "source": [
    "# BEGIN QUESTION\n",
    "name: q2_5"
   ]
  },
  {
   "cell_type": "markdown",
   "metadata": {},
   "source": [
    "**Question 2.5:** Calculate the RMSE of `new_Y_hat` based on `Y` and store this value as `new_rmse`."
   ]
  },
  {
   "cell_type": "raw",
   "metadata": {},
   "source": [
    "# BEGIN SOLUTION"
   ]
  },
  {
   "cell_type": "code",
   "execution_count": 186,
   "metadata": {},
   "outputs": [
    {
     "data": {
      "text/plain": [
       "22495.963258409643"
      ]
     },
     "execution_count": 186,
     "metadata": {},
     "output_type": "execute_result"
    }
   ],
   "source": [
    "new_rmse = rmse(Y, new_Y_hat) # SOLUTION\n",
    "new_rmse"
   ]
  },
  {
   "cell_type": "raw",
   "metadata": {},
   "source": [
    "# END SOLUTION"
   ]
  },
  {
   "cell_type": "raw",
   "metadata": {},
   "source": [
    "# BEGIN TESTS"
   ]
  },
  {
   "cell_type": "code",
   "execution_count": 187,
   "metadata": {},
   "outputs": [],
   "source": [
    "assert 22000 <= new_rmse <= 23000"
   ]
  },
  {
   "cell_type": "code",
   "execution_count": 188,
   "metadata": {},
   "outputs": [
    {
     "data": {
      "text/plain": [
       "np.True_"
      ]
     },
     "execution_count": 188,
     "metadata": {},
     "output_type": "execute_result"
    }
   ],
   "source": [
    "\"\"\" # BEGIN TEST CONFIG\n",
    "points: 1\n",
    "hidden: true\n",
    "\"\"\" # END TEST CONFIG\n",
    "np.isclose(new_rmse, 22495.963258409643)"
   ]
  },
  {
   "cell_type": "raw",
   "metadata": {},
   "source": [
    "# END TESTS"
   ]
  },
  {
   "cell_type": "raw",
   "metadata": {},
   "source": [
    "# END QUESTION"
   ]
  },
  {
   "cell_type": "raw",
   "metadata": {},
   "source": [
    "# BEGIN QUESTION\n",
    "name: q2_6\n",
    "manual: true"
   ]
  },
  {
   "cell_type": "markdown",
   "metadata": {},
   "source": [
    "**Question 2.6:** Did the RMSE go up or down in Question 2.7 compared to Question 2.4? Why do you think so?"
   ]
  },
  {
   "cell_type": "raw",
   "metadata": {},
   "source": [
    "# BEGIN SOLUTION"
   ]
  },
  {
   "cell_type": "markdown",
   "metadata": {},
   "source": [
    "<div class=\"alert alert-danger\">\n",
    "    \n",
    "<strong>SOLUTION:</strong> You will get full points as long as you provide a good reason for why you think your RMSE went up or down.\n",
    "\n",
    "</div>"
   ]
  },
  {
   "cell_type": "raw",
   "metadata": {},
   "source": [
    "# END SOLUTION"
   ]
  },
  {
   "cell_type": "raw",
   "metadata": {},
   "source": [
    "# END QUESTION"
   ]
  },
  {
   "cell_type": "raw",
   "metadata": {},
   "source": [
    "# BEGIN QUESTION\n",
    "name: q3\n",
    "points: 3"
   ]
  },
  {
   "cell_type": "markdown",
   "metadata": {
    "tags": [
     "ignore"
    ]
   },
   "source": [
    "## Part 3: Unguided Multivariable OLS"
   ]
  },
  {
   "cell_type": "markdown",
   "metadata": {
    "tags": [
     "ignore"
    ]
   },
   "source": [
    "In this section of the assignment, you will use `statsmodels` and OLS to create your own model to predict the September 2005 bill. Your model will be scored out of **5 points**, and a portion of your score will be determined based on your RMSE. The scores you will receive are given in the table below.\n",
    "\n",
    "| RMSE | Score (out of 5) |\n",
    "|-----|-----|\n",
    "| $\\le$ 20,000 | 6 |\n",
    "| $\\le$ 30,000 | 5 |\n",
    "| $\\le$ 50,000 | 4 |\n",
    "| $\\le \\infty$ | 3 |\n",
    "\n",
    "Note that it is possible to receive a 6 out of 5 for an especially good model, and that as long as you *create a model*, you are guaranteed a 3 out of 5. **To submit your model, you must assign `my_labels` to an array of the columns you want your model to use. You may not use more than 10 columns and, of course, you can't use the column `bill_sep05` in your features.** Your model RMSE will be calculated using the following code:\n",
    "\n",
    "```python\n",
    "X, Y = defaults[my_labels], defaults[\"bill_sep05\"]\n",
    "model = sm.OLS(Y, sm.add_constant(X))\n",
    "result = model.fit()\n",
    "Y_hat = result.fittedvalues\n",
    "rmse(Y, Y_hat)\n",
    "```\n",
    "\n",
    "To select your features, use the widget below to look for correlations between variables and the September 2005 bill. It requires your `pred_and_plot` function to work, so you will need to finish that function before using the widget."
   ]
  },
  {
   "cell_type": "code",
   "execution_count": 172,
   "metadata": {
    "tags": [
     "ignore"
    ]
   },
   "outputs": [
    {
     "data": {
      "application/vnd.jupyter.widget-view+json": {
       "model_id": "995d840ccbc3426eb36c8ee9985231db",
       "version_major": 2,
       "version_minor": 0
      },
      "text/plain": [
       "interactive(children=(Dropdown(description='col', options=('credit', 'age', 'bill_sep05', 'bill_aug05', 'bill_…"
      ]
     },
     "metadata": {},
     "output_type": "display_data"
    },
    {
     "data": {
      "image/png": "[encoded data removed]",
      "text/plain": [
       "<Figure size 720x504 with 1 Axes>"
      ]
     },
     "metadata": {
      "needs_background": "light"
     },
     "output_type": "display_data"
    }
   ],
   "source": [
    "interact(pred_and_plot, col=Dropdown(options=defaults.columns));"
   ]
  },
  {
   "cell_type": "markdown",
   "metadata": {
    "tags": [
     "ignore"
    ]
   },
   "source": [
    "Add and remove cells below as needed, but *make sure you define `my_labels`*. We have provided code for you to create your `X` array; just fill in the `...` in `my_labels` with your columns and use the space at the bottom to work on your model. Good luck!"
   ]
  },
  {
   "cell_type": "raw",
   "metadata": {},
   "source": [
    "# BEGIN SOLUTION"
   ]
  },
  {
   "cell_type": "code",
   "execution_count": 173,
   "metadata": {},
   "outputs": [],
   "source": [
    "# BEGIN SOLUTION NO PROMPT\n",
    "my_labels = ['bill_aug05','bill_jun05','bill_may05','bill_apr05','paid_sep05',\n",
    "             'paid_aug05','paid_jul05','paid_jun05','paid_may05','paid_apr05']\n",
    "\n",
    "my_X = defaults[my_labels]\n",
    "\n",
    "my_model = sm.OLS(Y, sm.add_constant(my_X))\n",
    "my_result = my_model.fit()\n",
    "my_Y_hat = my_result.fittedvalues\n",
    "rmse(Y, my_Y_hat)\n",
    "# END SOLUTION\n",
    "\"\"\" # BEGIN PROMPT\n",
    "my_labels = [...]\n",
    "\n",
    "my_X = defaults[my_labels]\n",
    "\n",
    "my_model = ...\n",
    "my_result = ...\n",
    "my_Y_hat = ...\n",
    "rmse(...)\n",
    "\"\"\"; # END PROMPT"
   ]
  },
  {
   "cell_type": "raw",
   "metadata": {},
   "source": [
    "# END SOLUTION"
   ]
  },
  {
   "cell_type": "raw",
   "metadata": {},
   "source": [
    "# BEGIN TESTS"
   ]
  },
  {
   "cell_type": "code",
   "execution_count": 175,
   "metadata": {},
   "outputs": [],
   "source": [
    "assert len(my_labels) <= 10\n",
    "assert \"bill_sep05\" not in my_labels"
   ]
  },
  {
   "cell_type": "raw",
   "metadata": {},
   "source": [
    "# END TESTS"
   ]
  },
  {
   "cell_type": "raw",
   "metadata": {},
   "source": [
    "# END QUESTION"
   ]
  },
  {
   "cell_type": "raw",
   "metadata": {},
   "source": [
    "# BEGIN QUESTION\n",
    "name: q3_1"
   ]
  },
  {
   "cell_type": "raw",
   "metadata": {},
   "source": [
    "# BEGIN TESTS"
   ]
  },
  {
   "cell_type": "code",
   "execution_count": 182,
   "metadata": {},
   "outputs": [],
   "source": [
    "# HIDDEN\n",
    "my_X = defaults[my_labels]\n",
    "my_model = sm.OLS(Y, sm.add_constant(my_X))\n",
    "my_result = my_model.fit()\n",
    "my_Y_hat = my_result.fittedvalues\n",
    "assert rmse(Y, my_Y_hat) <= 50000"
   ]
  },
  {
   "cell_type": "raw",
   "metadata": {},
   "source": [
    "# END TESTS"
   ]
  },
  {
   "cell_type": "raw",
   "metadata": {},
   "source": [
    "# END QUESTION"
   ]
  },
  {
   "cell_type": "raw",
   "metadata": {},
   "source": [
    "# BEGIN QUESTION\n",
    "name: q3_2"
   ]
  },
  {
   "cell_type": "raw",
   "metadata": {},
   "source": [
    "# BEGIN TESTS"
   ]
  },
  {
   "cell_type": "code",
   "execution_count": 181,
   "metadata": {},
   "outputs": [],
   "source": [
    "# HIDDEN\n",
    "my_X = defaults[my_labels]\n",
    "my_model = sm.OLS(Y, sm.add_constant(my_X))\n",
    "my_result = my_model.fit()\n",
    "my_Y_hat = my_result.fittedvalues\n",
    "assert rmse(Y, my_Y_hat) <= 30000"
   ]
  },
  {
   "cell_type": "raw",
   "metadata": {},
   "source": [
    "# END TESTS"
   ]
  },
  {
   "cell_type": "raw",
   "metadata": {},
   "source": [
    "# END QUESTION"
   ]
  },
  {
   "cell_type": "raw",
   "metadata": {},
   "source": [
    "# BEGIN QUESTION\n",
    "name: q3_3"
   ]
  },
  {
   "cell_type": "raw",
   "metadata": {},
   "source": [
    "# BEGIN TESTS"
   ]
  },
  {
   "cell_type": "code",
   "execution_count": 180,
   "metadata": {},
   "outputs": [],
   "source": [
    "# HIDDEN\n",
    "my_X = defaults[my_labels]\n",
    "my_model = sm.OLS(Y, sm.add_constant(my_X))\n",
    "my_result = my_model.fit()\n",
    "my_Y_hat = my_result.fittedvalues\n",
    "assert rmse(Y, my_Y_hat) <= 20000"
   ]
  },
  {
   "cell_type": "raw",
   "metadata": {},
   "source": [
    "# END TESTS"
   ]
  },
  {
   "cell_type": "raw",
   "metadata": {},
   "source": [
    "# END QUESTION"
   ]
  },
  {
   "cell_type": "markdown",
   "metadata": {
    "tags": [
     "ignore"
    ]
   },
   "source": [
    "## Part 4: Reflection\n",
    "\n",
    "In this section of the assignment, you will answer some conceptual questions about the choices you made in creating your model in Part 3. **This section heavily influences your grade, as we are looking to ensure that you are using econometric intuition while modeling. Please answer thoughtfully and, as always, *show us the numbers*.**"
   ]
  },
  {
   "cell_type": "raw",
   "metadata": {},
   "source": [
    "# BEGIN QUESTION\n",
    "name: q4_1\n",
    "manual: true"
   ]
  },
  {
   "cell_type": "markdown",
   "metadata": {},
   "source": [
    "**Question 4.1:** Explain one choice you made in selecting features while modeling in Part 3 and why you made it. (Your explanation should take at least a few sentences, and should justify your choice mathematically (i.e. with numerical evidence).)"
   ]
  },
  {
   "cell_type": "raw",
   "metadata": {},
   "source": [
    "# BEGIN SOLUTION"
   ]
  },
  {
   "cell_type": "markdown",
   "metadata": {},
   "source": [
    "<div class=\"alert alert-danger\">\n",
    "    \n",
    "<strong>SOLUTION:</strong> You should describe a choice you made and give mathematical justifications for why you made it. For example, I replace feature A with feature B because A's correlation with $y$ was &lt;a number&gt; but B's was &lt;a number&gt;, and this lowered the RMSE from &lt;a number&gt; to &lt;a number&gt;. Basically, show me the numbers.\n",
    "\n",
    "</div>"
   ]
  },
  {
   "cell_type": "raw",
   "metadata": {},
   "source": [
    "# END SOLUTION"
   ]
  },
  {
   "cell_type": "raw",
   "metadata": {},
   "source": [
    "# END QUESTION"
   ]
  },
  {
   "cell_type": "raw",
   "metadata": {},
   "source": [
    "# BEGIN QUESTION\n",
    "name: q4_2\n",
    "manual: true"
   ]
  },
  {
   "cell_type": "markdown",
   "metadata": {},
   "source": [
    "**Question 4.2:** Use your `pred_and_plot` function in the cell below to generate a visualization that helped you choose a feature in Part 3."
   ]
  },
  {
   "cell_type": "raw",
   "metadata": {},
   "source": [
    "# BEGIN SOLUTION"
   ]
  },
  {
   "cell_type": "code",
   "execution_count": 183,
   "metadata": {},
   "outputs": [
    {
     "name": "stdout",
     "output_type": "stream",
     "text": [
      "RMSE: 43919.38150\n"
     ]
    },
    {
     "data": {
      "image/png": "[encoded data removed]",
      "text/plain": [
       "<Figure size 720x504 with 1 Axes>"
      ]
     },
     "metadata": {
      "needs_background": "light"
     },
     "output_type": "display_data"
    }
   ],
   "source": [
    "pred_and_plot(\"bill_apr05\") # SOLUTION"
   ]
  },
  {
   "cell_type": "raw",
   "metadata": {},
   "source": [
    "# END SOLUTION"
   ]
  },
  {
   "cell_type": "raw",
   "metadata": {},
   "source": [
    "# END QUESTION"
   ]
  },
  {
   "cell_type": "raw",
   "metadata": {},
   "source": [
    "# BEGIN QUESTION\n",
    "name: q4_3\n",
    "manual: true"
   ]
  },
  {
   "cell_type": "markdown",
   "metadata": {},
   "source": [
    "**Question 4.3:** Choose a column you regressed on. Report its coefficient, $t$ statistic, and 95% CI. Interpret the coefficient's value. Is the variable likely significant? Explain."
   ]
  },
  {
   "cell_type": "raw",
   "metadata": {},
   "source": [
    "# BEGIN SOLUTION"
   ]
  },
  {
   "cell_type": "markdown",
   "metadata": {},
   "source": [
    "<div class=\"alert alert-danger\">\n",
    "\n",
    "<strong>SOLUTION:</strong> Full points with reporting all values and explanation using $t$ statistic and/or 95% CI.\n",
    "    \n",
    "</div>"
   ]
  },
  {
   "cell_type": "raw",
   "metadata": {},
   "source": [
    "# END SOLUTION"
   ]
  },
  {
   "cell_type": "raw",
   "metadata": {},
   "source": [
    "# END QUESTION"
   ]
  },
  {
   "cell_type": "markdown",
   "metadata": {
    "tags": [
     "ignore"
    ]
   },
   "source": [
    "---\n",
    "\n",
    "### References\n",
    "\n",
    "* Data from https://archive.ics.uci.edu/ml/datasets/default+of+credit+card+clients#"
   ]
  }
 ],
 "metadata": {
  "@webio": {
   "lastCommId": null,
   "lastKernelId": null
  },
  "kernelspec": {
   "display_name": "Python 3",
   "language": "python",
   "name": "python3"
  },
  "language_info": {
   "codemirror_mode": {
    "name": "ipython",
    "version": 3
   },
   "file_extension": ".py",
   "mimetype": "text/x-python",
   "name": "python",
   "nbconvert_exporter": "python",
   "pygments_lexer": "ipython3",
   "version": "3.7.7"
  },
  "varInspector": {
   "cols": {
    "lenName": 16,
    "lenType": 16,
    "lenVar": 40
   },
   "kernels_config": {
    "python": {
     "delete_cmd_postfix": "",
     "delete_cmd_prefix": "del ",
     "library": "var_list.py",
     "varRefreshCmd": "print(var_dic_list())"
    },
    "r": {
     "delete_cmd_postfix": ") ",
     "delete_cmd_prefix": "rm(",
     "library": "var_list.r",
     "varRefreshCmd": "cat(var_dic_list()) "
    }
   },
   "types_to_exclude": [
    "module",
    "function",
    "builtin_function_or_method",
    "instance",
    "_Feature"
   ],
   "window_display": false
  }
 },
 "nbformat": 4,
 "nbformat_minor": 4
}
